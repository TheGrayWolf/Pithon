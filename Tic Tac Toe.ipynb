{
 "cells": [
  {
   "cell_type": "code",
   "execution_count": 49,
   "metadata": {},
   "outputs": [],
   "source": [
    "# Get The Player Preference\n",
    "def getUserPreference():\n",
    "    print (\"Do you want To Be X or O\")\n",
    "    global playerChoiceXorO\n",
    "    playerChoiceXorO = input()\n",
    "    if playerChoiceXorO.lower() not in (\"o\",\"x\"):\n",
    "        print (\"Dude WTF ???\")\n",
    "        getUserPreference()\n",
    "    else:\n",
    "        return playerChoiceXorO.lower()\n",
    "            "
   ]
  },
  {
   "cell_type": "code",
   "execution_count": 50,
   "metadata": {},
   "outputs": [],
   "source": [
    "def definePlayer2():\n",
    "    global playerChoiceXorO\n",
    "    global player2\n",
    "    global player1\n",
    "    getUserPreference()\n",
    "    if playerChoiceXorO.lower():\n",
    "        player1 = playerChoiceXorO\n",
    "        if player1 == \"o\":\n",
    "            player2 = \"x\"\n",
    "        else:\n",
    "            player2 = \"o\"\n",
    "        return player2\n",
    "        print (\"player 1 selected \" + player1)\n",
    "        print (\"player 2 selected \" + player2)"
   ]
  },
  {
   "cell_type": "code",
   "execution_count": 51,
   "metadata": {},
   "outputs": [],
   "source": [
    "    global arr\n",
    "    arr = [\"|\",\" \",\" \",\" \",\"|\",\"|\",\" \",\" \",\" \",\"|\",\"|\",\" \",\" \",\" \",\"|\",\"|\",\" \",\"1\",\" \",\"|\",\"|\",\" \",\"2\",\" \",\"|\",\"|\",\" \",\"3\",\" \",\"|\",\"|\",\"_\",\"_\",\"_\",\"|\",\"|\",\"_\",\"_\",\"_\",\"|\",\"|\",\"_\",\"_\",\"_\",\"|\",\"|\",\" \",\" \",\" \",\"|\",\"|\",\" \",\" \",\" \",\"|\",\"|\",\" \",\" \",\" \",\"|\",\"|\",\" \",\"4\",\" \",\"|\",\"|\",\" \",\"5\",\" \",\"|\",\"|\",\" \",\"6\",\" \",\"|\",\"|\",\"_\",\"_\",\"_\",\"|\",\"|\",\"_\",\"_\",\"_\",\"|\",\"|\",\"_\",\"_\",\"_\",\"|\",\"|\",\" \",\" \",\" \",\"|\",\"|\",\" \",\" \",\" \",\"|\",\"|\",\" \",\" \",\" \",\"|\",\"|\",\" \",\"7\",\" \",\"|\",\"|\",\" \",\"8\",\" \",\"|\",\"|\",\" \",\"9\",\" \",\"|\",\"|\",\"_\",\"_\",\"_\",\"|\",\"|\",\"_\",\"_\",\"_\",\"|\",\"|\",\"_\",\"_\",\"_\",\"|\",]\n",
    "    def aray():\n",
    "        print (*arr[0:15])\n",
    "        print (*arr[15:30])\n",
    "        print (*arr[30:45])\n",
    "        print (*arr[45:60])\n",
    "        print (*arr[60:75])\n",
    "        print (*arr[75:90])\n",
    "        print (*arr[90:105])\n",
    "        print (*arr[105:120])\n",
    "        print (*arr[120:135])"
   ]
  },
  {
   "cell_type": "code",
   "execution_count": 52,
   "metadata": {},
   "outputs": [],
   "source": [
    "def selectpPosition():\n",
    "    print (\"Choose your density\")"
   ]
  },
  {
   "cell_type": "code",
   "execution_count": 53,
   "metadata": {},
   "outputs": [],
   "source": [
    "def selectpPosition2():\n",
    "    global playerSelection\n",
    "    playerSelection = input()"
   ]
  },
  {
   "cell_type": "code",
   "execution_count": 54,
   "metadata": {},
   "outputs": [],
   "source": [
    "def player1Placement ():\n",
    "    global ceva\n",
    "    ceva = {1:17, 2:22, 3:27, 4:62, 5:67, 6:72, 7:107, 8:112, 9:117}\n",
    "    global playerSelection\n",
    "    global playerChoiceXorO\n",
    "    global player2\n",
    "    global arr\n",
    "    arr[ceva[int(playerSelection)]] = playerChoiceXorO.upper()\n",
    "    aray()"
   ]
  },
  {
   "cell_type": "code",
   "execution_count": 55,
   "metadata": {},
   "outputs": [],
   "source": [
    "def player2Placement ():\n",
    "    global ceva\n",
    "    ceva = {1:17, 2:22, 3:27, 4:62, 5:67, 6:72, 7:107, 8:112, 9:117}\n",
    "    global playerSelection\n",
    "    global playerChoiceXorO\n",
    "    global player2\n",
    "    global arr\n",
    "    arr[ceva[int(playerSelection)]] = player2.upper()\n",
    "    aray()"
   ]
  },
  {
   "cell_type": "code",
   "execution_count": 56,
   "metadata": {},
   "outputs": [],
   "source": [
    "def checkIfDone():\n",
    "    if arr[17] == arr[22] and arr[22] == arr [27] or (arr[62] == arr[67] and arr[67] == arr [72]) or (arr[107] == arr[112] and arr[112] == arr [117]) or (arr[17] == arr[62] and arr[62] == arr [107]) or (arr[22] == arr[67] and arr[67] == arr [72]) or (arr[27] == arr[72] and arr[72] == arr [117]) or (arr[17] == arr[67] and arr[67] == arr [117]) or (arr[107] == arr[67] and arr[67] == arr [27]):\n",
    "        return True\n",
    "    else:\n",
    "        return False"
   ]
  },
  {
   "cell_type": "code",
   "execution_count": 60,
   "metadata": {},
   "outputs": [],
   "source": [
    "def play():\n",
    "    player1Placement()\n",
    "    if checkIfDone() == True:\n",
    "        print (\"It's over\")\n",
    "    else:\n",
    "        player2Placement()"
   ]
  },
  {
   "cell_type": "code",
   "execution_count": null,
   "metadata": {},
   "outputs": [],
   "source": []
  },
  {
   "cell_type": "code",
   "execution_count": null,
   "metadata": {},
   "outputs": [],
   "source": []
  },
  {
   "cell_type": "code",
   "execution_count": null,
   "metadata": {},
   "outputs": [],
   "source": []
  },
  {
   "cell_type": "code",
   "execution_count": 61,
   "metadata": {},
   "outputs": [],
   "source": [
    "def mainFunc ():\n",
    "    definePlayer2()\n",
    "    selectpPosition()\n",
    "    aray()\n",
    "    play()\n",
    "    "
   ]
  },
  {
   "cell_type": "code",
   "execution_count": 62,
   "metadata": {},
   "outputs": [
    {
     "name": "stdout",
     "output_type": "stream",
     "text": [
      "Do you want To Be X or O\n",
      "x\n",
      "Choose your density\n",
      "|       | |       | |       |\n",
      "|   X   | |   2   | |   3   |\n",
      "| _ _ _ | | _ _ _ | | _ _ _ |\n",
      "|       | |       | |       |\n",
      "|   4   | |   5   | |   6   |\n",
      "| _ _ _ | | _ _ _ | | _ _ _ |\n",
      "|       | |       | |       |\n",
      "|   7   | |   8   | |   9   |\n",
      "| _ _ _ | | _ _ _ | | _ _ _ |\n",
      "|       | |       | |       |\n",
      "|   X   | |   2   | |   3   |\n",
      "| _ _ _ | | _ _ _ | | _ _ _ |\n",
      "|       | |       | |       |\n",
      "|   4   | |   5   | |   6   |\n",
      "| _ _ _ | | _ _ _ | | _ _ _ |\n",
      "|       | |       | |       |\n",
      "|   7   | |   8   | |   9   |\n",
      "| _ _ _ | | _ _ _ | | _ _ _ |\n",
      "|       | |       | |       |\n",
      "|   O   | |   2   | |   3   |\n",
      "| _ _ _ | | _ _ _ | | _ _ _ |\n",
      "|       | |       | |       |\n",
      "|   4   | |   5   | |   6   |\n",
      "| _ _ _ | | _ _ _ | | _ _ _ |\n",
      "|       | |       | |       |\n",
      "|   7   | |   8   | |   9   |\n",
      "| _ _ _ | | _ _ _ | | _ _ _ |\n"
     ]
    }
   ],
   "source": [
    "mainFunc()"
   ]
  },
  {
   "cell_type": "markdown",
   "metadata": {},
   "source": [
    "# "
   ]
  },
  {
   "cell_type": "code",
   "execution_count": null,
   "metadata": {},
   "outputs": [],
   "source": []
  },
  {
   "cell_type": "code",
   "execution_count": null,
   "metadata": {},
   "outputs": [],
   "source": []
  },
  {
   "cell_type": "code",
   "execution_count": null,
   "metadata": {},
   "outputs": [],
   "source": []
  },
  {
   "cell_type": "code",
   "execution_count": null,
   "metadata": {},
   "outputs": [],
   "source": []
  },
  {
   "cell_type": "code",
   "execution_count": null,
   "metadata": {},
   "outputs": [],
   "source": []
  },
  {
   "cell_type": "code",
   "execution_count": null,
   "metadata": {},
   "outputs": [],
   "source": []
  },
  {
   "cell_type": "code",
   "execution_count": null,
   "metadata": {},
   "outputs": [],
   "source": []
  },
  {
   "cell_type": "code",
   "execution_count": null,
   "metadata": {},
   "outputs": [],
   "source": []
  },
  {
   "cell_type": "code",
   "execution_count": null,
   "metadata": {},
   "outputs": [],
   "source": []
  },
  {
   "cell_type": "code",
   "execution_count": null,
   "metadata": {},
   "outputs": [],
   "source": []
  },
  {
   "cell_type": "code",
   "execution_count": null,
   "metadata": {},
   "outputs": [],
   "source": []
  },
  {
   "cell_type": "code",
   "execution_count": null,
   "metadata": {},
   "outputs": [],
   "source": []
  },
  {
   "cell_type": "code",
   "execution_count": null,
   "metadata": {},
   "outputs": [],
   "source": []
  },
  {
   "cell_type": "code",
   "execution_count": null,
   "metadata": {},
   "outputs": [],
   "source": []
  },
  {
   "cell_type": "code",
   "execution_count": null,
   "metadata": {},
   "outputs": [],
   "source": []
  },
  {
   "cell_type": "code",
   "execution_count": 246,
   "metadata": {},
   "outputs": [
    {
     "name": "stdout",
     "output_type": "stream",
     "text": [
      "Do you want To Be X or O\n",
      "x\n",
      "Choose your density\n",
      "|       | |       | |       |\n",
      "|   1   | |   2   | |   3   |\n",
      "| _ _ _ | | _ _ _ | | _ _ _ |\n",
      "|       | |       | |       |\n",
      "|   4   | |   5   | |   6   |\n",
      "| _ _ _ | | _ _ _ | | _ _ _ |\n",
      "|       | |       | |       |\n",
      "|   7   | |   8   | |   9   |\n",
      "| _ _ _ | | _ _ _ | | _ _ _ |\n",
      "Choose your density\n",
      "2\n",
      "|       | |       | |       |\n",
      "|   1   | |   X   | |   3   |\n",
      "| _ _ _ | | _ _ _ | | _ _ _ |\n",
      "|       | |       | |       |\n",
      "|   4   | |   5   | |   6   |\n",
      "| _ _ _ | | _ _ _ | | _ _ _ |\n",
      "|       | |       | |       |\n",
      "|   7   | |   8   | |   9   |\n",
      "| _ _ _ | | _ _ _ | | _ _ _ |\n"
     ]
    }
   ],
   "source": []
  },
  {
   "cell_type": "code",
   "execution_count": null,
   "metadata": {},
   "outputs": [],
   "source": []
  }
 ],
 "metadata": {
  "kernelspec": {
   "display_name": "Python 3",
   "language": "python",
   "name": "python3"
  },
  "language_info": {
   "codemirror_mode": {
    "name": "ipython",
    "version": 3
   },
   "file_extension": ".py",
   "mimetype": "text/x-python",
   "name": "python",
   "nbconvert_exporter": "python",
   "pygments_lexer": "ipython3",
   "version": "3.7.1"
  }
 },
 "nbformat": 4,
 "nbformat_minor": 2
}
