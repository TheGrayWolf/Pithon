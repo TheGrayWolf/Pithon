{
 "cells": [
  {
   "cell_type": "code",
   "execution_count": 4,
   "metadata": {},
   "outputs": [
    {
     "name": "stdout",
     "output_type": "stream",
     "text": [
      "['', 'private', 'var', 'mobile', 'Containers', 'Shared', 'AppGroup', 'D6AFAD07-638C-4317-95D6-807A822E4A28', '1', 'live', 'user', 'contacts', 'pl.alin1', 'avatar', 'avatar.jpg']\n",
      "U Did it\n"
     ]
    }
   ],
   "source": [
    "a = \"/private/var/mobile/Containers/Shared/AppGroup/D6AFAD07-638C-4317-95D6-807A822E4A28/1/live/user/contacts/pl.alin1/avatar/avatar.jpg\"\n",
    "g = []\n",
    "g = a.split(\"/\")\n",
    "print(g)\n",
    "name = \"pl.alin1\"\n",
    "if name in g:\n",
    "    print (\"U Did it\")\n",
    "else:\n",
    "    print (\"U fucked up\")"
   ]
  },
  {
   "cell_type": "code",
   "execution_count": 7,
   "metadata": {},
   "outputs": [
    {
     "data": {
      "text/plain": [
       "15"
      ]
     },
     "execution_count": 7,
     "metadata": {},
     "output_type": "execute_result"
    }
   ],
   "source": [
    "len(g)"
   ]
  },
  {
   "cell_type": "code",
   "execution_count": null,
   "metadata": {},
   "outputs": [],
   "source": []
  }
 ],
 "metadata": {
  "kernelspec": {
   "display_name": "Python 3",
   "language": "python",
   "name": "python3"
  },
  "language_info": {
   "codemirror_mode": {
    "name": "ipython",
    "version": 3
   },
   "file_extension": ".py",
   "mimetype": "text/x-python",
   "name": "python",
   "nbconvert_exporter": "python",
   "pygments_lexer": "ipython3",
   "version": "3.7.1"
  }
 },
 "nbformat": 4,
 "nbformat_minor": 2
}
