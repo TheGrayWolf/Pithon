{
 "cells": [
  {
   "cell_type": "code",
   "execution_count": 2,
   "metadata": {},
   "outputs": [],
   "source": [
    "with open(\"myFile.txt\") as my_newFile:\n",
    "    contents = my_newFile.read()"
   ]
  },
  {
   "cell_type": "code",
   "execution_count": 3,
   "metadata": {},
   "outputs": [
    {
     "data": {
      "text/plain": [
       "'\"account_id\": \"e11b61c0-666c-11e9-94f1-1942f233febb\",\\n      \"region\": \"EUROPE_CIS\",\\n      \"country\": \"RO\",\\n      \"rank\": 3697,\\n      \"rank_delta\": -2468,\\n      \"best_rank\": 932,\\n      \"average_rank\": 2342,\\n      \"earnings\": 495.401479866039100,\\n      \"username\": \"pl.deeplinking.pq4zls\",\\n      \"first_name\": \"Fresh\",\\n      \"last_name\": \"WowApp\",\\n      \"sex\": \"MALE\",\\n      \"avatar_url\": \"/v3/avatar/get-avatar-with-default/pl.deeplinking.pq4zls\",\\n      \"avatar_etag\": \"4252bf6e0a120bde083cdfa0b71836b1\",\\n      \"badge\": \"USER\",\\n      \"do_good_highscore\":'"
      ]
     },
     "execution_count": 3,
     "metadata": {},
     "output_type": "execute_result"
    }
   ],
   "source": [
    "contents"
   ]
  },
  {
   "cell_type": "code",
   "execution_count": 4,
   "metadata": {},
   "outputs": [],
   "source": [
    "with open(\"myFile.txt\",mode =\"r\") as myFile:\n",
    "    contents = myFile.read()"
   ]
  },
  {
   "cell_type": "code",
   "execution_count": 5,
   "metadata": {},
   "outputs": [
    {
     "data": {
      "text/plain": [
       "'\"account_id\": \"e11b61c0-666c-11e9-94f1-1942f233febb\",\\n      \"region\": \"EUROPE_CIS\",\\n      \"country\": \"RO\",\\n      \"rank\": 3697,\\n      \"rank_delta\": -2468,\\n      \"best_rank\": 932,\\n      \"average_rank\": 2342,\\n      \"earnings\": 495.401479866039100,\\n      \"username\": \"pl.deeplinking.pq4zls\",\\n      \"first_name\": \"Fresh\",\\n      \"last_name\": \"WowApp\",\\n      \"sex\": \"MALE\",\\n      \"avatar_url\": \"/v3/avatar/get-avatar-with-default/pl.deeplinking.pq4zls\",\\n      \"avatar_etag\": \"4252bf6e0a120bde083cdfa0b71836b1\",\\n      \"badge\": \"USER\",\\n      \"do_good_highscore\":'"
      ]
     },
     "execution_count": 5,
     "metadata": {},
     "output_type": "execute_result"
    }
   ],
   "source": [
    "contents"
   ]
  },
  {
   "cell_type": "code",
   "execution_count": 12,
   "metadata": {},
   "outputs": [],
   "source": [
    "with open(\"myFile.txt\",mode =\"r+\") as myFile:\n",
    "    contents = myFile.read()"
   ]
  },
  {
   "cell_type": "code",
   "execution_count": 16,
   "metadata": {},
   "outputs": [
    {
     "name": "stdout",
     "output_type": "stream",
     "text": [
      "Writing myPotato.txt\n"
     ]
    }
   ],
   "source": [
    "%%writefile myPotato.txt\n",
    "ONE ON FIRST\n",
    "TWO ON SECOND\n",
    "THREE ON THIRD"
   ]
  },
  {
   "cell_type": "code",
   "execution_count": 17,
   "metadata": {},
   "outputs": [
    {
     "name": "stdout",
     "output_type": "stream",
     "text": [
      "ONE ON FIRST\n",
      "TWO ON SECOND\n",
      "THREE ON THIRD\n",
      "\n"
     ]
    }
   ],
   "source": [
    "with open(\"myPotato.txt\",mode=\"r\") as f:\n",
    "    print(f.read())"
   ]
  },
  {
   "cell_type": "code",
   "execution_count": 19,
   "metadata": {},
   "outputs": [],
   "source": [
    "with open(\"myPotato.txt\", mode = \"a\") as f:\n",
    "    f.write(\"FOR ON FORTH\")"
   ]
  },
  {
   "cell_type": "code",
   "execution_count": 20,
   "metadata": {},
   "outputs": [
    {
     "name": "stdout",
     "output_type": "stream",
     "text": [
      "ONE ON FIRST\n",
      "TWO ON SECOND\n",
      "THREE ON THIRD\n",
      "FOR ON FORTH\n"
     ]
    }
   ],
   "source": [
    "with open(\"myPotato.txt\",mode=\"r\") as f:\n",
    "    print(f.read())\n"
   ]
  },
  {
   "cell_type": "code",
   "execution_count": 24,
   "metadata": {},
   "outputs": [],
   "source": [
    "with open(\"pistaMatii.txt\", mode = \"w\") as f:\n",
    "    f.write(\"i hate python\")"
   ]
  },
  {
   "cell_type": "code",
   "execution_count": 25,
   "metadata": {},
   "outputs": [
    {
     "name": "stdout",
     "output_type": "stream",
     "text": [
      "i hate python\n"
     ]
    }
   ],
   "source": [
    "with open(\"pistaMatii.txt\", mode = \"r\") as f:\n",
    "    print(f.read())"
   ]
  },
  {
   "cell_type": "code",
   "execution_count": 35,
   "metadata": {},
   "outputs": [],
   "source": [
    "mata = open(\"test.txt\", \"w\")\n",
    "mata.write(\"Hello World\")\n",
    "mata.close()"
   ]
  },
  {
   "cell_type": "code",
   "execution_count": 34,
   "metadata": {},
   "outputs": [],
   "source": [
    "x = open(\"myfile.txt\", \"w\")\n",
    "x.write('This sucks')\n",
    "x.close()"
   ]
  },
  {
   "cell_type": "code",
   "execution_count": null,
   "metadata": {},
   "outputs": [],
   "source": []
  }
 ],
 "metadata": {
  "kernelspec": {
   "display_name": "Python 3",
   "language": "python",
   "name": "python3"
  },
  "language_info": {
   "codemirror_mode": {
    "name": "ipython",
    "version": 3
   },
   "file_extension": ".py",
   "mimetype": "text/x-python",
   "name": "python",
   "nbconvert_exporter": "python",
   "pygments_lexer": "ipython3",
   "version": "3.7.1"
  }
 },
 "nbformat": 4,
 "nbformat_minor": 2
}
