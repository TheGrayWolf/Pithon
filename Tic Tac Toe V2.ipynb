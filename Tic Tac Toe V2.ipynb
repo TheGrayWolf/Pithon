{
 "cells": [
  {
   "cell_type": "code",
   "execution_count": 246,
   "metadata": {},
   "outputs": [],
   "source": [
    "# Write a function that can print out a board. Set up your board as a list, \n",
    "# where each index 1-9 corresponds with a number on a number pad, \n",
    "# so you get a 3 by 3 board representation.\n",
    "\n",
    "# import specific functions from jupiter\n",
    "from IPython.display import clear_output\n",
    "\n",
    "def display_board(board):\n",
    "    clear_output()\n",
    "    print (\"|\"+board[1]+\"|\"+board[2]+\"|\"+board[3]+\"|\")\n",
    "    print (\"|\"+board[4]+\"|\"+board[5]+\"|\"+board[6]+\"|\")\n",
    "    print (\"|\"+board[7]+\"|\"+board[8]+\"|\"+board[9]+\"|\")"
   ]
  },
  {
   "cell_type": "code",
   "execution_count": 247,
   "metadata": {},
   "outputs": [
    {
     "name": "stdout",
     "output_type": "stream",
     "text": [
      "| | | |\n",
      "| | | |\n",
      "| | | |\n"
     ]
    }
   ],
   "source": [
    "test_board = [\" \"]*10\n",
    "display_board(test_board)"
   ]
  },
  {
   "cell_type": "code",
   "execution_count": 269,
   "metadata": {},
   "outputs": [],
   "source": [
    "# Write a function that can take in a player input and assign their marker as 'X' or 'O'. \n",
    "# Think about using while loops to continually ask until you get a correct answer.\n",
    "\n",
    "def player_input():\n",
    "    #we define the marker as being the selection of x or o\n",
    "    marker = \"\"\n",
    "    # Ask player for ch choose his faith \"\n",
    "    while marker != \"x\" and marker != \"o\":\n",
    "        marker = input(\"Ju whana be X or O? \").lower()\n",
    "        if marker == \"x\":\n",
    "            player1 = \"x\"\n",
    "            player2 = \"o\"\n",
    "            return(player1, player2)\n",
    "        elif marker == \"o\":\n",
    "            player1 = \"o\"\n",
    "            player2 = \"x\"\n",
    "            return(player1, player2)\n",
    "        else:\n",
    "            player_input()"
   ]
  },
  {
   "cell_type": "code",
   "execution_count": 270,
   "metadata": {},
   "outputs": [
    {
     "name": "stdout",
     "output_type": "stream",
     "text": [
      "Ju whana be X or O? o\n",
      "o\n"
     ]
    }
   ],
   "source": [
    "player1_marker, player2_marker = player_input()\n",
    "print (player1_marker)"
   ]
  },
  {
   "cell_type": "code",
   "execution_count": 271,
   "metadata": {},
   "outputs": [],
   "source": [
    "# Write a function that takes in the board list object, a marker ('X' or 'O'), \n",
    "# and a desired position (number 1-9) and assigns it to the board.def \n",
    "# the function takes 3 variables the board the marker and the position\n",
    "def place_marker (board, marker, position):\n",
    "    board[position] = marker"
   ]
  },
  {
   "cell_type": "code",
   "execution_count": 272,
   "metadata": {},
   "outputs": [
    {
     "name": "stdout",
     "output_type": "stream",
     "text": [
      "|x|#|x|\n",
      "|o|x|o|\n",
      "|x|o|x|\n"
     ]
    }
   ],
   "source": [
    "# Test the place_make Function\n",
    "test_board = ['#','x','o','x','o','x','o','x','o','x']\n",
    "place_marker (test_board, \"#\", 2)\n",
    "display_board(test_board)"
   ]
  },
  {
   "cell_type": "code",
   "execution_count": 273,
   "metadata": {},
   "outputs": [],
   "source": [
    "# Write a function that takes in a board and a mark (X or O) and then checks to see if that mark has won. *\n",
    "# Test if we have a win 3 in a row and so on ...\n",
    "def win_check(board,marker):\n",
    "    return((board[1] == board[2] == board[3] == marker) or \n",
    "    (board[4] == board[5] == board[6] == marker) or \n",
    "    (board[7] == board[8] == board[9] == marker) or \n",
    "    (board[1] == board[4] == board[7] == marker) or \n",
    "    (board[2] == board[5] == board[8] == marker) or \n",
    "    (board[3] == board[6] == board[9] == marker) or \n",
    "    (board[1] == board[5] == board[9] == marker) or\n",
    "    (board[3] == board[5] == board[7] == marker))\n",
    "        "
   ]
  },
  {
   "cell_type": "code",
   "execution_count": 274,
   "metadata": {},
   "outputs": [
    {
     "data": {
      "text/plain": [
       "True"
      ]
     },
     "execution_count": 274,
     "metadata": {},
     "output_type": "execute_result"
    }
   ],
   "source": [
    "# Test if win check works\n",
    "win_check(testboard,\"x\")\n"
   ]
  },
  {
   "cell_type": "code",
   "execution_count": 275,
   "metadata": {},
   "outputs": [],
   "source": [
    "# Write a function that uses the random module to randomly decide which player goes first.\n",
    "# You may want to lookup random.randint() \n",
    "# Return a string of which player went first.\n",
    "\n",
    "import random\n",
    "\n",
    "def coin_flip():\n",
    "    flip = random.randint(0,1)\n",
    "    if flip == 0:\n",
    "        return \"Player 1\"\n",
    "    else:\n",
    "        return \"Player 2\""
   ]
  },
  {
   "cell_type": "code",
   "execution_count": 276,
   "metadata": {},
   "outputs": [],
   "source": [
    "# Write a function that returns a boolean indicating whether a space on the board is freely available.\n",
    "# Take the board and position and check if the poistion is empty\n",
    "def check_free_space(board, position):\n",
    "    return board[position] == \" \""
   ]
  },
  {
   "cell_type": "code",
   "execution_count": 277,
   "metadata": {},
   "outputs": [],
   "source": [
    "# Write a function that checks if the board is full and returns a boolean value. True if full, False otherwise.\n",
    "# A Function that goes through every element in the board and checks if  it is empty\n",
    "def check_if_board_full(board):\n",
    "    for i in range (1,10):\n",
    "        if check_free_space (board, i):\n",
    "            return False\n",
    "    return True"
   ]
  },
  {
   "cell_type": "code",
   "execution_count": 278,
   "metadata": {},
   "outputs": [],
   "source": [
    "# Write a function that asks for a player's next position (as a number 1-9) \n",
    "# and then uses the function from step 6 to check if it's a free position. \n",
    "# If it is, then return the position for later use.\n",
    "\n",
    "def player_choice(board):\n",
    "    #position = 0\n",
    "    ceva = 0\n",
    "    #while position not in [1,2,3,4,5,6,7,8,9] or not check_free_space (board, position):\n",
    "    position = input(\"Choose a position: (1,9)\")\n",
    "    if position in [\"1\",\"2\",\"3\",\"4\",\"5\",\"6\",\"7\",\"8\",\"9\"] :\n",
    "        position = int(position)\n",
    "        return position\n",
    "    else:\n",
    "        player_choice(board)"
   ]
  },
  {
   "cell_type": "code",
   "execution_count": 279,
   "metadata": {},
   "outputs": [],
   "source": [
    "def replay():\n",
    "    choice = input(\"Play again? Enter Yes or No\").lower()\n",
    "    return choice == \"Yes\""
   ]
  },
  {
   "cell_type": "code",
   "execution_count": 280,
   "metadata": {},
   "outputs": [
    {
     "name": "stdout",
     "output_type": "stream",
     "text": [
      "|x|o|x|\n",
      "|o| | |\n",
      "| | | |\n",
      "Choose a position: (1,9)\n",
      "Choose a position: (1,9)5\n"
     ]
    },
    {
     "ename": "TypeError",
     "evalue": "list indices must be integers or slices, not NoneType",
     "output_type": "error",
     "traceback": [
      "\u001b[0;31m---------------------------------------------------------------------------\u001b[0m",
      "\u001b[0;31mTypeError\u001b[0m                                 Traceback (most recent call last)",
      "\u001b[0;32m<ipython-input-280-48357994506a>\u001b[0m in \u001b[0;36m<module>\u001b[0;34m\u001b[0m\n\u001b[1;32m     13\u001b[0m             \u001b[0mdisplay_board\u001b[0m\u001b[0;34m(\u001b[0m\u001b[0mtictactoeBoard\u001b[0m\u001b[0;34m)\u001b[0m\u001b[0;34m\u001b[0m\u001b[0;34m\u001b[0m\u001b[0m\n\u001b[1;32m     14\u001b[0m             \u001b[0mposition\u001b[0m \u001b[0;34m=\u001b[0m \u001b[0mplayer_choice\u001b[0m\u001b[0;34m(\u001b[0m\u001b[0mtictactoeBoard\u001b[0m\u001b[0;34m)\u001b[0m\u001b[0;34m\u001b[0m\u001b[0;34m\u001b[0m\u001b[0m\n\u001b[0;32m---> 15\u001b[0;31m             \u001b[0mplace_marker\u001b[0m\u001b[0;34m(\u001b[0m\u001b[0mtictactoeBoard\u001b[0m\u001b[0;34m,\u001b[0m\u001b[0mplayer1_marker\u001b[0m\u001b[0;34m,\u001b[0m\u001b[0mposition\u001b[0m\u001b[0;34m)\u001b[0m\u001b[0;34m\u001b[0m\u001b[0;34m\u001b[0m\u001b[0m\n\u001b[0m\u001b[1;32m     16\u001b[0m             \u001b[0;32mif\u001b[0m \u001b[0mwin_check\u001b[0m \u001b[0;34m(\u001b[0m\u001b[0mtictactoeBoard\u001b[0m\u001b[0;34m,\u001b[0m\u001b[0mplayer1_marker\u001b[0m\u001b[0;34m)\u001b[0m\u001b[0;34m:\u001b[0m\u001b[0;34m\u001b[0m\u001b[0;34m\u001b[0m\u001b[0m\n\u001b[1;32m     17\u001b[0m                 \u001b[0mdisplay_board\u001b[0m\u001b[0;34m(\u001b[0m\u001b[0mtictactoeBoard\u001b[0m\u001b[0;34m)\u001b[0m\u001b[0;34m\u001b[0m\u001b[0;34m\u001b[0m\u001b[0m\n",
      "\u001b[0;32m<ipython-input-271-181b808cc8fc>\u001b[0m in \u001b[0;36mplace_marker\u001b[0;34m(board, marker, position)\u001b[0m\n\u001b[1;32m      3\u001b[0m \u001b[0;31m# the function takes 3 variables the board the marker and the position\u001b[0m\u001b[0;34m\u001b[0m\u001b[0;34m\u001b[0m\u001b[0;34m\u001b[0m\u001b[0m\n\u001b[1;32m      4\u001b[0m \u001b[0;32mdef\u001b[0m \u001b[0mplace_marker\u001b[0m \u001b[0;34m(\u001b[0m\u001b[0mboard\u001b[0m\u001b[0;34m,\u001b[0m \u001b[0mmarker\u001b[0m\u001b[0;34m,\u001b[0m \u001b[0mposition\u001b[0m\u001b[0;34m)\u001b[0m\u001b[0;34m:\u001b[0m\u001b[0;34m\u001b[0m\u001b[0;34m\u001b[0m\u001b[0m\n\u001b[0;32m----> 5\u001b[0;31m     \u001b[0mboard\u001b[0m\u001b[0;34m[\u001b[0m\u001b[0mposition\u001b[0m\u001b[0;34m]\u001b[0m \u001b[0;34m=\u001b[0m \u001b[0mmarker\u001b[0m\u001b[0;34m\u001b[0m\u001b[0;34m\u001b[0m\u001b[0m\n\u001b[0m",
      "\u001b[0;31mTypeError\u001b[0m: list indices must be integers or slices, not NoneType"
     ]
    }
   ],
   "source": [
    "while True:\n",
    "    tictactoeBoard = [\" \"]*10\n",
    "    player1_marker, player2_marker = player_input()\n",
    "    turn = coin_flip()\n",
    "    print(turn + \" Goes First\")\n",
    "    play_game = input (\"Ready to play? y or n\")\n",
    "    if play_game == \"y\":\n",
    "        game_on = True\n",
    "    else:\n",
    "        game_on = False\n",
    "    while game_on:\n",
    "        if turn == \"Player 1\":\n",
    "            display_board(tictactoeBoard)\n",
    "            position = player_choice(tictactoeBoard)\n",
    "            place_marker(tictactoeBoard,player1_marker,position)\n",
    "            if win_check (tictactoeBoard,player1_marker):\n",
    "                display_board(tictactoeBoard)\n",
    "                print(\"Player 1 wins\")\n",
    "                game_on = False\n",
    "            else:\n",
    "                if check_if_board_full(tictactoeBoard):\n",
    "                    display_board(tictactoeBoard)\n",
    "                    print (\"The Game is a Tie\")\n",
    "                    game_on = False\n",
    "                else:\n",
    "                    turn = \"Player 2\"    \n",
    "        else:\n",
    "            turn == \"Player 2\"\n",
    "            display_board(tictactoeBoard)\n",
    "            position = player_choice(tictactoeBoard)\n",
    "            place_marker(tictactoeBoard,player2_marker,position)\n",
    "            if win_check (tictactoeBoard,player2_marker):\n",
    "                display_board(tictactoeBoard)\n",
    "                print(\"Player 2 wins\")\n",
    "                game_on = False\n",
    "            else:\n",
    "                if check_free_space(tictactoeBoard,position):\n",
    "                    display_board(tictactoeBoard)\n",
    "                    print (\"The Game is a Tie\")\n",
    "                    game_on = False\n",
    "                else:\n",
    "                    turn = \"Player 1\"                    \n",
    "    if not replay():\n",
    "        break     "
   ]
  },
  {
   "cell_type": "markdown",
   "metadata": {},
   "source": []
  },
  {
   "cell_type": "code",
   "execution_count": null,
   "metadata": {},
   "outputs": [],
   "source": []
  }
 ],
 "metadata": {
  "kernelspec": {
   "display_name": "Python 3",
   "language": "python",
   "name": "python3"
  },
  "language_info": {
   "codemirror_mode": {
    "name": "ipython",
    "version": 3
   },
   "file_extension": ".py",
   "mimetype": "text/x-python",
   "name": "python",
   "nbconvert_exporter": "python",
   "pygments_lexer": "ipython3",
   "version": "3.7.1"
  }
 },
 "nbformat": 4,
 "nbformat_minor": 2
}
